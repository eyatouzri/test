{
 "cells": [
  {
   "cell_type": "code",
   "execution_count": 3,
   "id": "55dae13f",
   "metadata": {},
   "outputs": [
    {
     "ename": "ModuleNotFoundError",
     "evalue": "No module named 'face_recognition'",
     "output_type": "error",
     "traceback": [
      "\u001b[1;31m---------------------------------------------------------------------------\u001b[0m",
      "\u001b[1;31mModuleNotFoundError\u001b[0m                       Traceback (most recent call last)",
      "\u001b[1;32m<ipython-input-3-54e5dff1d6e9>\u001b[0m in \u001b[0;36m<module>\u001b[1;34m\u001b[0m\n\u001b[0;32m      1\u001b[0m \u001b[1;32mfrom\u001b[0m \u001b[0mPIL\u001b[0m \u001b[1;32mimport\u001b[0m \u001b[0mImage\u001b[0m\u001b[1;33m,\u001b[0m \u001b[0mImageDraw\u001b[0m\u001b[1;33m\u001b[0m\u001b[1;33m\u001b[0m\u001b[0m\n\u001b[1;32m----> 2\u001b[1;33m \u001b[1;32mimport\u001b[0m \u001b[0mface_recognition\u001b[0m\u001b[1;33m\u001b[0m\u001b[1;33m\u001b[0m\u001b[0m\n\u001b[0m\u001b[0;32m      3\u001b[0m \u001b[1;33m\u001b[0m\u001b[0m\n\u001b[0;32m      4\u001b[0m \u001b[1;33m\u001b[0m\u001b[0m\n\u001b[0;32m      5\u001b[0m \u001b[1;32mclass\u001b[0m \u001b[0mReco_face\u001b[0m\u001b[1;33m(\u001b[0m\u001b[0mobject\u001b[0m\u001b[1;33m)\u001b[0m\u001b[1;33m:\u001b[0m\u001b[1;33m\u001b[0m\u001b[1;33m\u001b[0m\u001b[0m\n",
      "\u001b[1;31mModuleNotFoundError\u001b[0m: No module named 'face_recognition'"
     ]
    }
   ],
   "source": [
    "\n",
    "from PIL import Image, ImageDraw\n",
    "import face_recognition\n",
    "\n",
    "\n",
    "class Reco_face(object):\n",
    "    \"\"\"Reconnaissance faciale.\n",
    "    \"\"\"\n",
    "\n",
    "    def __init__(self, source=\"Images/cap_default.jpg\"):\n",
    "        \"\"\"Initialisation du module.\n",
    "        Kwargs:\n",
    "            source (str): Emplacement de l'image par défaut.\n",
    "        \"\"\"\n",
    "\n",
    "        self.source = source\n",
    "\n",
    "    def find_face(self):\n",
    "        \"\"\"Trouve les personnes dans une image.\n",
    "        \"\"\"\n",
    "\n",
    "        image = face_recognition.load_image_file(self.source)\n",
    "        face_locations = face_recognition.face_locations(image)\n",
    "\n",
    "        face_number = len(face_locations)\n",
    "        print(face_number)\n",
    "\n",
    "        for face_num, face_location in enumerate(face_locations):\n",
    "            # Print the location of each face in this image\n",
    "            top, right, bottom, left = face_location\n",
    "\n",
    "            # You can access the actual face itself like this:\n",
    "            face_image = image[top:bottom, left:right]\n",
    "            pil_image = Image.fromarray(face_image)\n",
    "            #pil_image.show()\n",
    "            pil_image.save(self.source + \"_face-{:02d}.jpg\".format(face_num))\n",
    "\n",
    "    def find_facial_features(self):\n",
    "        \"\"\"Find all facial features in all the faces in the image.\n",
    "        \"\"\"\n",
    "\n",
    "        image = face_recognition.load_image_file(self.source)\n",
    "        face_landmarks_list = face_recognition.face_landmarks(image)\n",
    "\n",
    "        face_number = len(face_landmarks_list)\n",
    "\n",
    "        for face_num, face_landmarks in enumerate(face_landmarks_list):\n",
    "\n",
    "            facial_features = ['chin', 'left_eyebrow', 'right_eyebrow', 'nose_bridge',\n",
    "                               'nose_tip', 'left_eye', 'right_eye', 'top_lip', 'bottom_lip']\n",
    "            # Let's trace out each facial feature in the image with a line!\n",
    "            pil_image = Image.fromarray(image)\n",
    "            d = ImageDraw.Draw(pil_image)\n",
    "\n",
    "            for facial_feature in facial_features:\n",
    "                d.line(face_landmarks[facial_feature], width=5)\n",
    "\n",
    "            #pil_image.show()\n",
    "            pil_image.save(self.source + \"_face_feature-{:02d}.jpg\".format(face_num))\n",
    "\n",
    "if __name__ == '__main__':\n",
    "    r = Reco_face()\n",
    "    r.find_face()\n",
    "    r.find_facial_features()"
   ]
  },
  {
   "cell_type": "code",
   "execution_count": 2,
   "id": "10a60cfb",
   "metadata": {},
   "outputs": [
    {
     "name": "stdout",
     "output_type": "stream",
     "text": [
      "Collecting face_recognition\n",
      "  Downloading face_recognition-1.3.0-py2.py3-none-any.whl (15 kB)\n",
      "Requirement already satisfied: numpy in c:\\users\\utilisateur\\anaconda3\\lib\\site-packages (from face_recognition) (1.20.1)\n",
      "Collecting dlib>=19.7\n",
      "  Downloading dlib-19.22.0.tar.gz (7.4 MB)\n",
      "Collecting face-recognition-models>=0.3.0\n",
      "  Downloading face_recognition_models-0.3.0.tar.gz (100.1 MB)\n",
      "Requirement already satisfied: Pillow in c:\\users\\utilisateur\\anaconda3\\lib\\site-packages (from face_recognition) (8.2.0)\n",
      "Requirement already satisfied: Click>=6.0 in c:\\users\\utilisateur\\anaconda3\\lib\\site-packages (from face_recognition) (7.1.2)\n",
      "Building wheels for collected packages: dlib, face-recognition-models\n",
      "  Building wheel for dlib (setup.py): started\n",
      "  Building wheel for dlib (setup.py): finished with status 'error'\n",
      "  Running setup.py clean for dlib\n",
      "  Building wheel for face-recognition-models (setup.py): started\n",
      "  Building wheel for face-recognition-models (setup.py): still running...\n",
      "  Building wheel for face-recognition-models (setup.py): finished with status 'done'\n",
      "  Created wheel for face-recognition-models: filename=face_recognition_models-0.3.0-py2.py3-none-any.whl size=100566173 sha256=0c87e60314494a13f8d2eaa70c064c912be6cb208574836cba98dd6628755f4b\n",
      "  Stored in directory: c:\\users\\utilisateur\\appdata\\local\\pip\\cache\\wheels\\b4\\4b\\8f\\751e99d45f089bdf366a7d3e5066db3c2b84a62e4377f534d7\n",
      "Successfully built face-recognition-models\n",
      "Failed to build dlib\n",
      "Installing collected packages: face-recognition-models, dlib, face-recognition\n",
      "    Running setup.py install for dlib: started\n",
      "    Running setup.py install for dlib: finished with status 'error'\n",
      "Note: you may need to restart the kernel to use updated packages.\n"
     ]
    },
    {
     "name": "stderr",
     "output_type": "stream",
     "text": [
      "  ERROR: Command errored out with exit status 1:\n",
      "   command: 'C:\\Users\\Utilisateur\\anaconda3\\python.exe' -u -c 'import sys, setuptools, tokenize; sys.argv[0] = '\"'\"'C:\\\\Users\\\\Utilisateur\\\\AppData\\\\Local\\\\Temp\\\\pip-install-5jnquzeb\\\\dlib_e1c2237594f84d6ba3755de6f79f009c\\\\setup.py'\"'\"'; __file__='\"'\"'C:\\\\Users\\\\Utilisateur\\\\AppData\\\\Local\\\\Temp\\\\pip-install-5jnquzeb\\\\dlib_e1c2237594f84d6ba3755de6f79f009c\\\\setup.py'\"'\"';f=getattr(tokenize, '\"'\"'open'\"'\"', open)(__file__);code=f.read().replace('\"'\"'\\r\\n'\"'\"', '\"'\"'\\n'\"'\"');f.close();exec(compile(code, __file__, '\"'\"'exec'\"'\"'))' bdist_wheel -d 'C:\\Users\\Utilisateur\\AppData\\Local\\Temp\\pip-wheel-av2ky5gx'\n",
      "       cwd: C:\\Users\\Utilisateur\\AppData\\Local\\Temp\\pip-install-5jnquzeb\\dlib_e1c2237594f84d6ba3755de6f79f009c\\\n",
      "  Complete output (8 lines):\n",
      "  running bdist_wheel\n",
      "  running build\n",
      "  running build_py\n",
      "  package init file 'tools\\python\\dlib\\__init__.py' not found (or not a regular file)\n",
      "  running build_ext\n",
      "  \n",
      "  ERROR: CMake must be installed to build dlib\n",
      "  \n",
      "  ----------------------------------------\n",
      "  ERROR: Failed building wheel for dlib\n",
      "    ERROR: Command errored out with exit status 1:\n",
      "     command: 'C:\\Users\\Utilisateur\\anaconda3\\python.exe' -u -c 'import sys, setuptools, tokenize; sys.argv[0] = '\"'\"'C:\\\\Users\\\\Utilisateur\\\\AppData\\\\Local\\\\Temp\\\\pip-install-5jnquzeb\\\\dlib_e1c2237594f84d6ba3755de6f79f009c\\\\setup.py'\"'\"'; __file__='\"'\"'C:\\\\Users\\\\Utilisateur\\\\AppData\\\\Local\\\\Temp\\\\pip-install-5jnquzeb\\\\dlib_e1c2237594f84d6ba3755de6f79f009c\\\\setup.py'\"'\"';f=getattr(tokenize, '\"'\"'open'\"'\"', open)(__file__);code=f.read().replace('\"'\"'\\r\\n'\"'\"', '\"'\"'\\n'\"'\"');f.close();exec(compile(code, __file__, '\"'\"'exec'\"'\"'))' install --record 'C:\\Users\\Utilisateur\\AppData\\Local\\Temp\\pip-record-y70ugq9x\\install-record.txt' --single-version-externally-managed --compile --install-headers 'C:\\Users\\Utilisateur\\anaconda3\\Include\\dlib'\n",
      "         cwd: C:\\Users\\Utilisateur\\AppData\\Local\\Temp\\pip-install-5jnquzeb\\dlib_e1c2237594f84d6ba3755de6f79f009c\\\n",
      "    Complete output (8 lines):\n",
      "    running install\n",
      "    running build\n",
      "    running build_py\n",
      "    package init file 'tools\\python\\dlib\\__init__.py' not found (or not a regular file)\n",
      "    running build_ext\n",
      "    \n",
      "    ERROR: CMake must be installed to build dlib\n",
      "    \n",
      "    ----------------------------------------\n",
      "ERROR: Command errored out with exit status 1: 'C:\\Users\\Utilisateur\\anaconda3\\python.exe' -u -c 'import sys, setuptools, tokenize; sys.argv[0] = '\"'\"'C:\\\\Users\\\\Utilisateur\\\\AppData\\\\Local\\\\Temp\\\\pip-install-5jnquzeb\\\\dlib_e1c2237594f84d6ba3755de6f79f009c\\\\setup.py'\"'\"'; __file__='\"'\"'C:\\\\Users\\\\Utilisateur\\\\AppData\\\\Local\\\\Temp\\\\pip-install-5jnquzeb\\\\dlib_e1c2237594f84d6ba3755de6f79f009c\\\\setup.py'\"'\"';f=getattr(tokenize, '\"'\"'open'\"'\"', open)(__file__);code=f.read().replace('\"'\"'\\r\\n'\"'\"', '\"'\"'\\n'\"'\"');f.close();exec(compile(code, __file__, '\"'\"'exec'\"'\"'))' install --record 'C:\\Users\\Utilisateur\\AppData\\Local\\Temp\\pip-record-y70ugq9x\\install-record.txt' --single-version-externally-managed --compile --install-headers 'C:\\Users\\Utilisateur\\anaconda3\\Include\\dlib' Check the logs for full command output.\n"
     ]
    }
   ],
   "source": [
    "pip install face_recognition"
   ]
  },
  {
   "cell_type": "code",
   "execution_count": null,
   "id": "bd9f40d7",
   "metadata": {},
   "outputs": [],
   "source": []
  }
 ],
 "metadata": {
  "kernelspec": {
   "display_name": "Python 3",
   "language": "python",
   "name": "python3"
  },
  "language_info": {
   "codemirror_mode": {
    "name": "ipython",
    "version": 3
   },
   "file_extension": ".py",
   "mimetype": "text/x-python",
   "name": "python",
   "nbconvert_exporter": "python",
   "pygments_lexer": "ipython3",
   "version": "3.8.8"
  }
 },
 "nbformat": 4,
 "nbformat_minor": 5
}
