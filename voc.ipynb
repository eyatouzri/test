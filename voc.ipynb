{
 "cells": [
  {
   "cell_type": "code",
   "execution_count": 5,
   "id": "54fdbd91",
   "metadata": {},
   "outputs": [
    {
     "name": "stdout",
     "output_type": "stream",
     "text": [
      "Réglage du bruit ambiant... Patientez...\n",
      "Vous pouvez parler...\n",
      "Enregistrement terminé !\n",
      "Reconnaissance du texte...\n",
      "\n"
     ]
    }
   ],
   "source": [
    "from speech_recognition import Recognizer, Microphone\n",
    "recognizer = Recognizer()\n",
    "# On enregistre le son\n",
    "with Microphone() as source:\n",
    "    print(\"Réglage du bruit ambiant... Patientez...\")\n",
    "    recognizer.adjust_for_ambient_noise(source)\n",
    "    print(\"Vous pouvez parler...\")\n",
    "    audio = recognizer.listen(source)\n",
    "    print(\"Enregistrement terminé !\")\n",
    "    with open('record.wav' , 'wb') as f:\n",
    "        f.write( audio.get_wav_data() )\n",
    "    \n",
    "# Reconnaissance de l'audio\n",
    "try:\n",
    "    print(\"Reconnaissance du texte...\")\n",
    "    text = recognizer.recognize_google(\n",
    "            audio, \n",
    "            language=\"fr-FR\"\n",
    "        )\n",
    "    print(\"Vous avez dit : {}\".format(text))\n",
    "except Exception as ex:\n",
    "    print(ex)"
   ]
  },
  {
   "cell_type": "code",
   "execution_count": null,
   "id": "f29d1efa",
   "metadata": {},
   "outputs": [],
   "source": []
  },
  {
   "cell_type": "code",
   "execution_count": null,
   "id": "22c48dd6",
   "metadata": {},
   "outputs": [],
   "source": []
  }
 ],
 "metadata": {
  "kernelspec": {
   "display_name": "Python 3",
   "language": "python",
   "name": "python3"
  },
  "language_info": {
   "codemirror_mode": {
    "name": "ipython",
    "version": 3
   },
   "file_extension": ".py",
   "mimetype": "text/x-python",
   "name": "python",
   "nbconvert_exporter": "python",
   "pygments_lexer": "ipython3",
   "version": "3.8.8"
  }
 },
 "nbformat": 4,
 "nbformat_minor": 5
}
