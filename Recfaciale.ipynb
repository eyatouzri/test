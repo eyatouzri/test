{
 "cells": [
  {
   "cell_type": "code",
   "execution_count": 2,
   "id": "3e6bf4d4",
   "metadata": {},
   "outputs": [
    {
     "ename": "IndentationError",
     "evalue": "unindent does not match any outer indentation level (<tokenize>, line 28)",
     "output_type": "error",
     "traceback": [
      "\u001b[1;36m  File \u001b[1;32m\"<tokenize>\"\u001b[1;36m, line \u001b[1;32m28\u001b[0m\n\u001b[1;33m    for face_encoding in face_encodings:\u001b[0m\n\u001b[1;37m    ^\u001b[0m\n\u001b[1;31mIndentationError\u001b[0m\u001b[1;31m:\u001b[0m unindent does not match any outer indentation level\n"
     ]
    }
   ],
   "source": [
    "import face_recognition\n",
    "import numpy as np\n",
    "import cv2, queue, threading, time\n",
    "import requests, os, re\n",
    "\n",
    "video_capture = VideoCapture(0)\n",
    "# video_capture.set(5,1)\n",
    "known_face_encodings = []\n",
    "known_face_names = []\n",
    "known_faces_filenames = []\n",
    "for (dirpath, dirnames, filenames) in os.walk('assets/img/users/'):\n",
    "    known_faces_filenames.extend(filenames)\n",
    "    break\n",
    "for filename in known_faces_filenames:\n",
    "    face = face_recognition.load_image_file('assets/img/users/' + filename)\n",
    "    known_face_names.append(re.sub(\"[0-9]\",'', filename[:-4]))\n",
    "    known_face_encodings.append(face_recognition.face_encodings(face)[0])\n",
    "face_locations = []\n",
    "face_encodings = []\n",
    "face_names = []\n",
    "process_this_frame = True\n",
    "while True:\n",
    "    frame = video_capture.read()\n",
    "    if process_this_frame:\n",
    "        face_locations = face_recognition.face_locations(frame)\n",
    "        face_encodings = face_recognition.face_encodings(frame, face_locations)\n",
    "        face_names = []\n",
    " for face_encoding in face_encodings: \n",
    "            matches = face_recognition.compare_faces(known_face_encodings, face_encoding)\n",
    "            name = \"Unknown\"\n",
    "            face_distances = face_recognition.face_distance(known_face_encodings, face_encoding)\n",
    "            best_match_index = np.argmin(face_distances)\n",
    "            if matches[best_match_index]:\n",
    "                name = known_face_names[best_match_index]\n",
    " face_names.append(name)      \n",
    "    process_this_frame = not process_this_frame\n",
    "           for (top, right, bottom, left), name in zip(face_locations, face_names):\n",
    "        cv2.rectangle(frame, (left, top), (right, bottom), (0, 0, 255), 2)\n",
    "        font = cv2.FONT_HERSHEY_DUPLEX\n",
    "        cv2.putText(frame, name, (left + 6, bottom - 6), font, 1.0, (255, 255, 255), 1) \n",
    "    cv2.imshow('Video', frame)\n",
    "    if cv2.waitKey(1) & 0xFF == ord('q'):\n",
    "        break\n",
    "video_capture.release()\n",
    "cv2.destroyAllWindows()"
   ]
  },
  {
   "cell_type": "code",
   "execution_count": 6,
   "id": "fce1b3d4",
   "metadata": {},
   "outputs": [],
   "source": []
  },
  {
   "cell_type": "code",
   "execution_count": null,
   "id": "f35947f2",
   "metadata": {},
   "outputs": [],
   "source": []
  }
 ],
 "metadata": {
  "kernelspec": {
   "display_name": "Python 3",
   "language": "python",
   "name": "python3"
  },
  "language_info": {
   "codemirror_mode": {
    "name": "ipython",
    "version": 3
   },
   "file_extension": ".py",
   "mimetype": "text/x-python",
   "name": "python",
   "nbconvert_exporter": "python",
   "pygments_lexer": "ipython3",
   "version": "3.8.8"
  }
 },
 "nbformat": 4,
 "nbformat_minor": 5
}
