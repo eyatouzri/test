{
 "cells": [
  {
   "cell_type": "code",
   "execution_count": 1,
   "id": "5481b8a6",
   "metadata": {},
   "outputs": [
    {
     "ename": "ModuleNotFoundError",
     "evalue": "No module named 'context'",
     "output_type": "error",
     "traceback": [
      "\u001b[1;31m---------------------------------------------------------------------------\u001b[0m",
      "\u001b[1;31mModuleNotFoundError\u001b[0m                       Traceback (most recent call last)",
      "\u001b[1;32m<ipython-input-1-0dfedc172531>\u001b[0m in \u001b[0;36m<module>\u001b[1;34m\u001b[0m\n\u001b[1;32m----> 1\u001b[1;33m \u001b[1;32mfrom\u001b[0m \u001b[0mcontext\u001b[0m \u001b[1;32mimport\u001b[0m \u001b[0mrecovoc\u001b[0m\u001b[1;33m\u001b[0m\u001b[1;33m\u001b[0m\u001b[0m\n\u001b[0m\u001b[0;32m      2\u001b[0m \u001b[1;32mfrom\u001b[0m \u001b[0mrecovoc\u001b[0m\u001b[1;33m.\u001b[0m\u001b[0mopencv\u001b[0m \u001b[1;32mimport\u001b[0m \u001b[0mImageProcessing\u001b[0m\u001b[1;33m\u001b[0m\u001b[1;33m\u001b[0m\u001b[0m\n\u001b[0;32m      3\u001b[0m \u001b[1;33m\u001b[0m\u001b[0m\n\u001b[0;32m      4\u001b[0m \u001b[1;32mimport\u001b[0m \u001b[0munittest\u001b[0m\u001b[1;33m\u001b[0m\u001b[1;33m\u001b[0m\u001b[0m\n\u001b[0;32m      5\u001b[0m \u001b[1;32mimport\u001b[0m \u001b[0mwarnings\u001b[0m\u001b[1;33m\u001b[0m\u001b[1;33m\u001b[0m\u001b[0m\n",
      "\u001b[1;31mModuleNotFoundError\u001b[0m: No module named 'context'"
     ]
    }
   ],
   "source": [
    "\n",
    "from context import recovoc\n",
    "from recovoc.opencv import ImageProcessing\n",
    "\n",
    "import unittest\n",
    "import warnings\n",
    "import os\n",
    "import shutil\n",
    "\n",
    "\n",
    "here = os.path.abspath(os.path.dirname(__file__))\n",
    "\n",
    "def ignore_warnings(test_func):\n",
    "    def do_test(self, *args, **kwargs):\n",
    "        with warnings.catch_warnings():\n",
    "            warnings.simplefilter(\"ignore\")\n",
    "            test_func(self, *args, **kwargs)\n",
    "    return do_test\n",
    "\n",
    "@unittest.skipIf(ImageProcessing.check_cam() is None, \"There is no camera detected.\")\n",
    "class TestCamera(unittest.TestCase):\n",
    "    \"\"\"Camera Test class.\n",
    "    \"\"\"\n",
    "\n",
    "    def setUp(self):\n",
    "        self.c = ImageProcessing(saved=here)\n",
    "\n",
    "    def test_capture(self):\n",
    "        self.c.image_capture(period=2)\n",
    "        self.assertTrue(os.path.isfile(here + \"/Images/cap_default.jpg\"))\n",
    "        self.c.load_image(here + \"/Images/cap_default.jpg\", period=2)\n",
    "\n",
    "    def test_new_capture(self):\n",
    "        self.c.image_capture(new=True, period=2)\n",
    "        self.assertTrue(os.path.isfile(here + \"/Images/cap-000.jpg\"))\n",
    "\n",
    "    def test_superpose(self):\n",
    "        self.c.image_capture(new=True, period=1)\n",
    "        self.c.image_capture(period=1)\n",
    "        self.c.image_superpose(here + \"/Images/cap_default.jpg\", here + \"/Images/cap-001.jpg\", period=5)\n",
    "        self.assertTrue(os.path.isfile(here + \"/Images/cap_superpose-000.jpg\"))\n",
    "\n",
    "    def test_video(self):\n",
    "        self.c.video_capture()\n",
    "        self.assertTrue(os.path.isfile(here + \"/Videos/vid_default.avi\"))\n",
    "        self.c.video_play(here + \"/Videos/vid_default.avi\")\n",
    "\n",
    "    def test_new_video(self):\n",
    "        self.c.video_capture(new=True)\n",
    "        self.assertTrue(os.path.isfile(here + \"/Videos/vid-0.avi\"))\n",
    "\n",
    "    @staticmethod\n",
    "    def tearDown():\n",
    "        \"\"\"Remove created files and directories.\n",
    "        \"\"\"\n",
    "\n",
    "        shutil.rmtree(here + \"/Images\")\n",
    "        shutil.rmtree(here + \"/Videos\")\n",
    "\n",
    "\n",
    "if __name__ == '__main__':\n",
    "    unittest.main()"
   ]
  },
  {
   "cell_type": "code",
   "execution_count": 2,
   "id": "c7c24b93",
   "metadata": {},
   "outputs": [
    {
     "name": "stdout",
     "output_type": "stream",
     "text": [
      "Collecting context\n",
      "  Downloading context-0.0.tar.gz (1.0 kB)\n",
      "Collecting context.api\n",
      "  Downloading context.api-0.0.tar.gz (2.1 kB)\n",
      "Note: you may need to restart the kernel to use updated packages.\n"
     ]
    },
    {
     "name": "stderr",
     "output_type": "stream",
     "text": [
      "ERROR: Could not find a version that satisfies the requirement context.viewer (from context)\n",
      "ERROR: No matching distribution found for context.viewer\n"
     ]
    }
   ],
   "source": [
    "pip install context"
   ]
  },
  {
   "cell_type": "code",
   "execution_count": null,
   "id": "136ddae1",
   "metadata": {},
   "outputs": [],
   "source": []
  }
 ],
 "metadata": {
  "kernelspec": {
   "display_name": "Python 3",
   "language": "python",
   "name": "python3"
  },
  "language_info": {
   "codemirror_mode": {
    "name": "ipython",
    "version": 3
   },
   "file_extension": ".py",
   "mimetype": "text/x-python",
   "name": "python",
   "nbconvert_exporter": "python",
   "pygments_lexer": "ipython3",
   "version": "3.8.8"
  }
 },
 "nbformat": 4,
 "nbformat_minor": 5
}
